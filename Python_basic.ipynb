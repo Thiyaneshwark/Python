{
 "cells": [
  {
   "cell_type": "markdown",
   "id": "02fa3a4a",
   "metadata": {},
   "source": [
    "###### LIST"
   ]
  },
  {
   "cell_type": "code",
   "execution_count": 1,
   "id": "497ae559",
   "metadata": {},
   "outputs": [],
   "source": [
    "import numpy as np"
   ]
  },
  {
   "cell_type": "code",
   "execution_count": 9,
   "id": "0ccd3b96",
   "metadata": {},
   "outputs": [
    {
     "name": "stdout",
     "output_type": "stream",
     "text": [
      "[23 45 18]\n"
     ]
    }
   ],
   "source": [
    "array1=[23,45,18]\n",
    "num=np.array(array1)\n",
    "print(num)"
   ]
  },
  {
   "cell_type": "code",
   "execution_count": 15,
   "id": "394638a7",
   "metadata": {},
   "outputs": [
    {
     "data": {
      "text/plain": [
       "array([[0.58950288, 0.35904956, 0.34220401],\n",
       "       [0.14725135, 0.62178504, 0.46012993]])"
      ]
     },
     "execution_count": 15,
     "metadata": {},
     "output_type": "execute_result"
    }
   ],
   "source": [
    "np.random.rand(2,3)"
   ]
  },
  {
   "cell_type": "code",
   "execution_count": 16,
   "id": "f1286a71",
   "metadata": {},
   "outputs": [
    {
     "data": {
      "text/plain": [
       "array([0.50853702, 0.93331273])"
      ]
     },
     "execution_count": 16,
     "metadata": {},
     "output_type": "execute_result"
    }
   ],
   "source": [
    "np.random.random(size=2)"
   ]
  },
  {
   "cell_type": "code",
   "execution_count": 19,
   "id": "2c1728c3",
   "metadata": {},
   "outputs": [
    {
     "data": {
      "text/plain": [
       "array([67, 58, 58, 45, 52, 90, 55, 39, 76, 32, 20, 60, 21, 34, 59,  8, 41,\n",
       "       10, 82, 56,  1, 93, 92, 93, 12, 97, 81, 71, 30, 60, 60,  1, 39, 37,\n",
       "        8, 67, 54, 90, 57, 73, 23, 80,  4, 94, 53, 64, 54, 76, 60, 55, 84,\n",
       "        9, 91, 90, 72, 87, 13, 44, 35, 21, 17, 96, 79, 85, 53, 76,  3, 26,\n",
       "       70, 72, 26, 52, 15, 61, 37, 58,  1, 44, 10, 98, 25, 33, 47,  4, 23,\n",
       "       94, 21, 14, 15, 14, 35, 58, 95, 29, 34, 42, 95, 67, 70, 14])"
      ]
     },
     "execution_count": 19,
     "metadata": {},
     "output_type": "execute_result"
    }
   ],
   "source": [
    "np.random.randint(1,101,100)"
   ]
  },
  {
   "cell_type": "code",
   "execution_count": 28,
   "id": "2b84ec80",
   "metadata": {},
   "outputs": [
    {
     "data": {
      "text/plain": [
       "array([ 0,  5, 10, 15, 20, 25, 30, 35, 40, 45])"
      ]
     },
     "execution_count": 28,
     "metadata": {},
     "output_type": "execute_result"
    }
   ],
   "source": [
    "np.arange(0,50,5)"
   ]
  },
  {
   "cell_type": "code",
   "execution_count": 29,
   "id": "d888e24a",
   "metadata": {},
   "outputs": [
    {
     "data": {
      "text/plain": [
       "array([100,  99,  98,  97,  96,  95,  94,  93,  92,  91,  90,  89,  88,\n",
       "        87,  86,  85,  84,  83,  82,  81,  80,  79,  78,  77,  76,  75,\n",
       "        74,  73,  72,  71,  70,  69,  68,  67,  66,  65,  64,  63,  62,\n",
       "        61,  60,  59,  58,  57,  56,  55,  54,  53,  52,  51,  50,  49,\n",
       "        48,  47,  46,  45,  44,  43,  42,  41,  40,  39,  38,  37,  36,\n",
       "        35,  34,  33,  32,  31,  30,  29,  28,  27,  26,  25,  24,  23,\n",
       "        22,  21,  20,  19,  18,  17,  16,  15,  14,  13,  12,  11,  10,\n",
       "         9,   8,   7,   6,   5,   4,   3,   2,   1])"
      ]
     },
     "execution_count": 29,
     "metadata": {},
     "output_type": "execute_result"
    }
   ],
   "source": [
    "np.arange(100,0,-1)"
   ]
  },
  {
   "cell_type": "code",
   "execution_count": 32,
   "id": "e31ea34b",
   "metadata": {},
   "outputs": [
    {
     "data": {
      "text/plain": [
       "array([0. , 0.2, 0.4, 0.6, 0.8, 1. ])"
      ]
     },
     "execution_count": 32,
     "metadata": {},
     "output_type": "execute_result"
    }
   ],
   "source": [
    "np.linspace(0,1,6)"
   ]
  },
  {
   "cell_type": "code",
   "execution_count": 37,
   "id": "48738883",
   "metadata": {},
   "outputs": [
    {
     "data": {
      "text/plain": [
       "array([0, 0, 0, 0, 0, 0, 0, 0, 0, 0])"
      ]
     },
     "execution_count": 37,
     "metadata": {},
     "output_type": "execute_result"
    }
   ],
   "source": [
    "np.zeros(10,int)"
   ]
  },
  {
   "cell_type": "code",
   "execution_count": 38,
   "id": "12863875",
   "metadata": {},
   "outputs": [
    {
     "data": {
      "text/plain": [
       "array([1, 1, 1, 1, 1, 1, 1, 1, 1, 1, 1, 1, 1, 1, 1, 1, 1, 1, 1, 1, 1, 1,\n",
       "       1, 1, 1, 1, 1, 1, 1, 1, 1, 1, 1, 1, 1, 1, 1, 1, 1, 1, 1, 1, 1, 1,\n",
       "       1, 1, 1, 1, 1, 1, 1, 1, 1, 1, 1, 1, 1, 1, 1, 1, 1, 1, 1, 1, 1, 1,\n",
       "       1, 1, 1, 1, 1, 1, 1, 1, 1, 1, 1, 1, 1, 1, 1, 1, 1, 1, 1, 1, 1, 1,\n",
       "       1, 1, 1, 1, 1, 1, 1, 1, 1, 1, 1, 1])"
      ]
     },
     "execution_count": 38,
     "metadata": {},
     "output_type": "execute_result"
    }
   ],
   "source": [
    "np.ones(100,int)"
   ]
  },
  {
   "cell_type": "code",
   "execution_count": 41,
   "id": "393c19b9",
   "metadata": {},
   "outputs": [
    {
     "name": "stdout",
     "output_type": "stream",
     "text": [
      "[[          0           0 -1032344592]\n",
      " [        573 -1032347280         573]\n",
      " [-1032345552         573         114]]\n"
     ]
    }
   ],
   "source": [
    "matrix=np.empty((3,3),int)\n",
    "print(matrix)"
   ]
  },
  {
   "cell_type": "code",
   "execution_count": 43,
   "id": "9383b644",
   "metadata": {},
   "outputs": [
    {
     "name": "stdout",
     "output_type": "stream",
     "text": [
      "[[10 10 10]\n",
      " [10 10 10]\n",
      " [10 10 10]]\n"
     ]
    }
   ],
   "source": [
    "matrix=np.full((3,3),10)\n",
    "print(matrix)"
   ]
  },
  {
   "cell_type": "code",
   "execution_count": 44,
   "id": "d7cc9aeb",
   "metadata": {},
   "outputs": [
    {
     "data": {
      "text/plain": [
       "array([[1., 0., 0., ..., 0., 0., 0.],\n",
       "       [0., 1., 0., ..., 0., 0., 0.],\n",
       "       [0., 0., 1., ..., 0., 0., 0.],\n",
       "       ...,\n",
       "       [0., 0., 0., ..., 1., 0., 0.],\n",
       "       [0., 0., 0., ..., 0., 1., 0.],\n",
       "       [0., 0., 0., ..., 0., 0., 1.]])"
      ]
     },
     "execution_count": 44,
     "metadata": {},
     "output_type": "execute_result"
    }
   ],
   "source": [
    "np.identity(50)"
   ]
  },
  {
   "cell_type": "code",
   "execution_count": 56,
   "id": "56f5aaf8",
   "metadata": {},
   "outputs": [
    {
     "name": "stdout",
     "output_type": "stream",
     "text": [
      "[ 2  3  4  5  6  7  8  9 10 11 12 13 14 15 16 17 18 19 20]\n"
     ]
    }
   ],
   "source": [
    "arr=np.arange(2,21)\n",
    "print(arr)"
   ]
  },
  {
   "cell_type": "code",
   "execution_count": 57,
   "id": "3903427d",
   "metadata": {},
   "outputs": [
    {
     "name": "stdout",
     "output_type": "stream",
     "text": [
      "6\n"
     ]
    }
   ],
   "source": [
    "sample_array=np.arange(2,10)\n",
    "print(sample_array[4])"
   ]
  },
  {
   "cell_type": "code",
   "execution_count": 2,
   "id": "8750c40f",
   "metadata": {},
   "outputs": [
    {
     "data": {
      "text/plain": [
       "[0, 1, 4, 12, 10000]"
      ]
     },
     "execution_count": 2,
     "metadata": {},
     "output_type": "execute_result"
    }
   ],
   "source": [
    "avg=[12,1,0,4,10000]\n",
    "avg.sort()\n",
    "avg"
   ]
  },
  {
   "cell_type": "code",
   "execution_count": 5,
   "id": "f781fe91",
   "metadata": {},
   "outputs": [
    {
     "data": {
      "text/plain": [
       "10"
      ]
     },
     "execution_count": 5,
     "metadata": {},
     "output_type": "execute_result"
    }
   ],
   "source": [
    "avg=[12,1,0.1,10]\n",
    "avg[-1]"
   ]
  },
  {
   "cell_type": "code",
   "execution_count": 6,
   "id": "ff90ea17",
   "metadata": {},
   "outputs": [
    {
     "data": {
      "text/plain": [
       "[100, 2, 10, 100]"
      ]
     },
     "execution_count": 6,
     "metadata": {},
     "output_type": "execute_result"
    }
   ],
   "source": [
    "avg=[100,10,2,100]\n",
    "avg.reverse()\n",
    "avg"
   ]
  },
  {
   "cell_type": "code",
   "execution_count": 7,
   "id": "6bf005d1",
   "metadata": {},
   "outputs": [
    {
     "data": {
      "text/plain": [
       "[]"
      ]
     },
     "execution_count": 7,
     "metadata": {},
     "output_type": "execute_result"
    }
   ],
   "source": [
    "avg[1:-3]"
   ]
  },
  {
   "cell_type": "code",
   "execution_count": 10,
   "id": "2fa69da1",
   "metadata": {},
   "outputs": [
    {
     "data": {
      "text/plain": [
       "2000"
      ]
     },
     "execution_count": 10,
     "metadata": {},
     "output_type": "execute_result"
    }
   ],
   "source": [
    "avg=[1,10,0.1,200,100,2000]\n",
    "avg[-1]"
   ]
  },
  {
   "cell_type": "code",
   "execution_count": 13,
   "id": "5f585aae",
   "metadata": {},
   "outputs": [
    {
     "data": {
      "text/plain": [
       "[200, 100]"
      ]
     },
     "execution_count": 13,
     "metadata": {},
     "output_type": "execute_result"
    }
   ],
   "source": [
    "avg[:][3:-1]"
   ]
  },
  {
   "cell_type": "code",
   "execution_count": 14,
   "id": "4fb82548",
   "metadata": {},
   "outputs": [
    {
     "data": {
      "text/plain": [
       "[1, 10, 0.1, 200, 100, 2000]"
      ]
     },
     "execution_count": 14,
     "metadata": {},
     "output_type": "execute_result"
    }
   ],
   "source": [
    "avg[::1]"
   ]
  },
  {
   "cell_type": "code",
   "execution_count": 20,
   "id": "d848d25c",
   "metadata": {},
   "outputs": [
    {
     "data": {
      "text/plain": [
       "[1, 100]"
      ]
     },
     "execution_count": 20,
     "metadata": {},
     "output_type": "execute_result"
    }
   ],
   "source": [
    "avg[::4]"
   ]
  },
  {
   "cell_type": "code",
   "execution_count": 26,
   "id": "dd000c5c",
   "metadata": {},
   "outputs": [
    {
     "data": {
      "text/plain": [
       "0.1"
      ]
     },
     "execution_count": 26,
     "metadata": {},
     "output_type": "execute_result"
    }
   ],
   "source": [
    "avg.pop(2)"
   ]
  },
  {
   "cell_type": "code",
   "execution_count": 29,
   "id": "904bc12a",
   "metadata": {},
   "outputs": [
    {
     "data": {
      "text/plain": [
       "'20:12:2003'"
      ]
     },
     "execution_count": 29,
     "metadata": {},
     "output_type": "execute_result"
    }
   ],
   "source": [
    "avg=\"20\",\"12\",\"2003\"\n",
    "sep=':'\n",
    "sep.join(avg)"
   ]
  },
  {
   "cell_type": "code",
   "execution_count": 31,
   "id": "d8414b74",
   "metadata": {},
   "outputs": [
    {
     "data": {
      "text/plain": [
       "'sng????png'"
      ]
     },
     "execution_count": 31,
     "metadata": {},
     "output_type": "execute_result"
    }
   ],
   "source": [
    "sng=\"???sng????png???\"\n",
    "sng.strip(\"?\")"
   ]
  },
  {
   "cell_type": "code",
   "execution_count": 35,
   "id": "9b60bb7a",
   "metadata": {
    "scrolled": true
   },
   "outputs": [
    {
     "data": {
      "text/plain": [
       "100"
      ]
     },
     "execution_count": 35,
     "metadata": {},
     "output_type": "execute_result"
    }
   ],
   "source": [
    "avg=[100,1,0.2]\n",
    "max(avg)"
   ]
  },
  {
   "cell_type": "code",
   "execution_count": 37,
   "id": "71cd3e2f",
   "metadata": {},
   "outputs": [
    {
     "data": {
      "text/plain": [
       "0.2"
      ]
     },
     "execution_count": 37,
     "metadata": {},
     "output_type": "execute_result"
    }
   ],
   "source": [
    "min(avg)"
   ]
  },
  {
   "cell_type": "code",
   "execution_count": 40,
   "id": "39728ef7",
   "metadata": {},
   "outputs": [
    {
     "data": {
      "text/plain": [
       "[]"
      ]
     },
     "execution_count": 40,
     "metadata": {},
     "output_type": "execute_result"
    }
   ],
   "source": [
    "avg.clear()\n",
    "avg"
   ]
  },
  {
   "cell_type": "code",
   "execution_count": 44,
   "id": "432a27f1",
   "metadata": {},
   "outputs": [
    {
     "data": {
      "text/plain": [
       "[13, 23, 55, 2.2, 24]"
      ]
     },
     "execution_count": 44,
     "metadata": {},
     "output_type": "execute_result"
    }
   ],
   "source": [
    "str1=[13,23,55,2.2]\n",
    "str1.append(24)\n",
    "str1"
   ]
  },
  {
   "cell_type": "code",
   "execution_count": 51,
   "id": "4782904e",
   "metadata": {},
   "outputs": [
    {
     "data": {
      "text/plain": [
       "[4, 4, 0, 13, 0, 23, 0, 0, 55, 2.2, 24]"
      ]
     },
     "execution_count": 51,
     "metadata": {},
     "output_type": "execute_result"
    }
   ],
   "source": [
    "str1.insert(0,4)\n",
    "str1"
   ]
  },
  {
   "cell_type": "code",
   "execution_count": 54,
   "id": "b4ce567c",
   "metadata": {},
   "outputs": [
    {
     "name": "stdout",
     "output_type": "stream",
     "text": [
      "True\n"
     ]
    }
   ],
   "source": [
    "print (13 in str1)"
   ]
  },
  {
   "cell_type": "code",
   "execution_count": 55,
   "id": "98308c2a",
   "metadata": {},
   "outputs": [
    {
     "data": {
      "text/plain": [
       "2"
      ]
     },
     "execution_count": 55,
     "metadata": {},
     "output_type": "execute_result"
    }
   ],
   "source": [
    "str1.count(4)"
   ]
  },
  {
   "cell_type": "code",
   "execution_count": 56,
   "id": "5c9a2147",
   "metadata": {},
   "outputs": [
    {
     "data": {
      "text/plain": [
       "0"
      ]
     },
     "execution_count": 56,
     "metadata": {},
     "output_type": "execute_result"
    }
   ],
   "source": [
    "str1[2]"
   ]
  },
  {
   "cell_type": "code",
   "execution_count": 65,
   "id": "8c1ae572",
   "metadata": {},
   "outputs": [
    {
     "data": {
      "text/plain": [
       "'a5'"
      ]
     },
     "execution_count": 65,
     "metadata": {},
     "output_type": "execute_result"
    }
   ],
   "source": [
    "ang=[\"a1\",\"a2\",\"a5\"]\n",
    "ang.pop(2)"
   ]
  },
  {
   "cell_type": "markdown",
   "id": "c610fb26",
   "metadata": {},
   "source": [
    "###### TUPLE"
   ]
  },
  {
   "cell_type": "code",
   "execution_count": 77,
   "id": "4e400709",
   "metadata": {},
   "outputs": [
    {
     "data": {
      "text/plain": [
       "tuple"
      ]
     },
     "execution_count": 77,
     "metadata": {},
     "output_type": "execute_result"
    }
   ],
   "source": [
    "str10=(\"st1\",\"st2\",\"st3\")\n",
    "type(str10)"
   ]
  },
  {
   "cell_type": "code",
   "execution_count": 81,
   "id": "7b3592d0",
   "metadata": {},
   "outputs": [
    {
     "data": {
      "text/plain": [
       "['alpha', 'beta', 'theta']"
      ]
     },
     "execution_count": 81,
     "metadata": {},
     "output_type": "execute_result"
    }
   ],
   "source": [
    "item=(\"beta\",\"alpha\",\"theta\")\n",
    "sorted(item)"
   ]
  },
  {
   "cell_type": "code",
   "execution_count": 82,
   "id": "40d733b6",
   "metadata": {},
   "outputs": [
    {
     "name": "stdout",
     "output_type": "stream",
     "text": [
      "True\n"
     ]
    }
   ],
   "source": [
    "print(\"beta\" in item)"
   ]
  },
  {
   "cell_type": "code",
   "execution_count": 83,
   "id": "042bac6e",
   "metadata": {},
   "outputs": [
    {
     "name": "stdout",
     "output_type": "stream",
     "text": [
      "('beta', 'alpha', 'theta', 'beta', 'alpha', 'theta', 'beta', 'alpha', 'theta', 'beta', 'alpha', 'theta', 'beta', 'alpha', 'theta', 'beta', 'alpha', 'theta', 'beta', 'alpha', 'theta', 'beta', 'alpha', 'theta', 'beta', 'alpha', 'theta', 'beta', 'alpha', 'theta')\n"
     ]
    }
   ],
   "source": [
    "a=10\n",
    "print(item*a)"
   ]
  },
  {
   "cell_type": "code",
   "execution_count": 84,
   "id": "9ac51461",
   "metadata": {},
   "outputs": [
    {
     "name": "stdout",
     "output_type": "stream",
     "text": [
      "('beta', 'alpha', 'theta', 'beta', 'alpha', 'theta')\n"
     ]
    }
   ],
   "source": [
    "print(item*2)"
   ]
  },
  {
   "cell_type": "code",
   "execution_count": 87,
   "id": "4af75d51",
   "metadata": {},
   "outputs": [
    {
     "data": {
      "text/plain": [
       "3"
      ]
     },
     "execution_count": 87,
     "metadata": {},
     "output_type": "execute_result"
    }
   ],
   "source": [
    "len(item)"
   ]
  },
  {
   "cell_type": "code",
   "execution_count": 92,
   "id": "d08898d8",
   "metadata": {},
   "outputs": [
    {
     "data": {
      "text/plain": [
       "('alpha', 'beta', 'theta', ['teta', 'sesa', 230])"
      ]
     },
     "execution_count": 92,
     "metadata": {},
     "output_type": "execute_result"
    }
   ],
   "source": [
    "item2=(\"alpha\",\"beta\",\"theta\",[\"teta\",\"sesa\"])\n",
    "item2[3].append(230)\n",
    "item2"
   ]
  },
  {
   "cell_type": "code",
   "execution_count": 93,
   "id": "7e5e2865",
   "metadata": {},
   "outputs": [
    {
     "data": {
      "text/plain": [
       "1"
      ]
     },
     "execution_count": 93,
     "metadata": {},
     "output_type": "execute_result"
    }
   ],
   "source": [
    "item.count(\"alpha\")"
   ]
  },
  {
   "cell_type": "code",
   "execution_count": 94,
   "id": "f5a41499",
   "metadata": {},
   "outputs": [
    {
     "data": {
      "text/plain": [
       "0"
      ]
     },
     "execution_count": 94,
     "metadata": {},
     "output_type": "execute_result"
    }
   ],
   "source": [
    "item2.index(\"alpha\")"
   ]
  },
  {
   "cell_type": "code",
   "execution_count": 95,
   "id": "03005375",
   "metadata": {},
   "outputs": [
    {
     "data": {
      "text/plain": [
       "('alpha', 'beta', 'theta', ['teta', 'sesa', 230])"
      ]
     },
     "execution_count": 95,
     "metadata": {},
     "output_type": "execute_result"
    }
   ],
   "source": [
    "item2[:]"
   ]
  },
  {
   "cell_type": "code",
   "execution_count": 100,
   "id": "abcdcbe2",
   "metadata": {},
   "outputs": [
    {
     "data": {
      "text/plain": [
       "4"
      ]
     },
     "execution_count": 100,
     "metadata": {},
     "output_type": "execute_result"
    }
   ],
   "source": [
    "len(item2)"
   ]
  },
  {
   "cell_type": "code",
   "execution_count": 106,
   "id": "f14e748d",
   "metadata": {},
   "outputs": [
    {
     "data": {
      "text/plain": [
       "('beta', 'alpha', 'theta', 'alpha', 'beta', 'theta', ['teta', 'sesa', 230])"
      ]
     },
     "execution_count": 106,
     "metadata": {},
     "output_type": "execute_result"
    }
   ],
   "source": [
    "tel=item+item2\n",
    "tel"
   ]
  },
  {
   "cell_type": "markdown",
   "id": "b2fb83e6",
   "metadata": {},
   "source": [
    "##### DICTIONARY"
   ]
  },
  {
   "cell_type": "code",
   "execution_count": 114,
   "id": "6724ef22",
   "metadata": {},
   "outputs": [
    {
     "name": "stdout",
     "output_type": "stream",
     "text": [
      "{'alpha': 13, 'beta': 23, 'theta': 34, 'delta': 56}\n"
     ]
    }
   ],
   "source": [
    "items={\"alpha\":13,\"beta\":23,\"theta\":34}\n",
    "items[\"delta\"]=56\n",
    "print(items)\n"
   ]
  },
  {
   "cell_type": "code",
   "execution_count": 118,
   "id": "9d10083a",
   "metadata": {},
   "outputs": [
    {
     "name": "stdout",
     "output_type": "stream",
     "text": [
      "{'beta': 23, 'theta': 34}\n"
     ]
    }
   ],
   "source": [
    "items={\"alpha\":13,\"beta\":23,\"theta\":34}\n",
    "del items[\"alpha\"]\n",
    "print(items)"
   ]
  },
  {
   "cell_type": "code",
   "execution_count": 119,
   "id": "10f2aa32",
   "metadata": {},
   "outputs": [
    {
     "name": "stdout",
     "output_type": "stream",
     "text": [
      "{'beta': 23}\n"
     ]
    }
   ],
   "source": [
    "del items[\"theta\"]\n",
    "print(items)"
   ]
  },
  {
   "cell_type": "code",
   "execution_count": 120,
   "id": "d923ae8f",
   "metadata": {},
   "outputs": [
    {
     "data": {
      "text/plain": [
       "1"
      ]
     },
     "execution_count": 120,
     "metadata": {},
     "output_type": "execute_result"
    }
   ],
   "source": [
    "len(items)"
   ]
  },
  {
   "cell_type": "code",
   "execution_count": 121,
   "id": "a00eb409",
   "metadata": {},
   "outputs": [
    {
     "data": {
      "text/plain": [
       "\"{'beta': 23}\""
      ]
     },
     "execution_count": 121,
     "metadata": {},
     "output_type": "execute_result"
    }
   ],
   "source": [
    "str(items)"
   ]
  },
  {
   "cell_type": "code",
   "execution_count": 122,
   "id": "4d36c8be",
   "metadata": {},
   "outputs": [
    {
     "data": {
      "text/plain": [
       "dict"
      ]
     },
     "execution_count": 122,
     "metadata": {},
     "output_type": "execute_result"
    }
   ],
   "source": [
    "type(items)"
   ]
  },
  {
   "cell_type": "code",
   "execution_count": 124,
   "id": "1f5300a6",
   "metadata": {},
   "outputs": [
    {
     "data": {
      "text/plain": [
       "{}"
      ]
     },
     "execution_count": 124,
     "metadata": {},
     "output_type": "execute_result"
    }
   ],
   "source": [
    "items.clear()\n",
    "items"
   ]
  },
  {
   "cell_type": "code",
   "execution_count": 127,
   "id": "90ed890a",
   "metadata": {},
   "outputs": [
    {
     "name": "stdout",
     "output_type": "stream",
     "text": [
      "13\n"
     ]
    }
   ],
   "source": [
    "items1={\"alpha\":13,\"beta\":23,\"theta\":34}\n",
    "print(items1.get(\"alpha\"))"
   ]
  },
  {
   "cell_type": "code",
   "execution_count": 128,
   "id": "99d4c489",
   "metadata": {},
   "outputs": [
    {
     "name": "stdout",
     "output_type": "stream",
     "text": [
      "None\n"
     ]
    }
   ],
   "source": [
    "print(items1.get(23))"
   ]
  },
  {
   "cell_type": "code",
   "execution_count": 135,
   "id": "db162104",
   "metadata": {},
   "outputs": [
    {
     "name": "stdout",
     "output_type": "stream",
     "text": [
      "{'alpha': 237, 'beta': 237, 'theta': 237}\n"
     ]
    }
   ],
   "source": [
    "data=(\"alpha\",\"beta\",\"theta\")\n",
    "dictionary=dict.fromkeys(data,237)\n",
    "print(dictionary)"
   ]
  },
  {
   "cell_type": "code",
   "execution_count": 138,
   "id": "f7900601",
   "metadata": {},
   "outputs": [
    {
     "name": "stdout",
     "output_type": "stream",
     "text": [
      "{'alpha': 237, 'beta': 237, 'theta': 237, 'deltha': 23}\n"
     ]
    }
   ],
   "source": [
    "dictionary[\"deltha\"]=23\n",
    "print(dictionary)"
   ]
  },
  {
   "cell_type": "code",
   "execution_count": 142,
   "id": "10403df3",
   "metadata": {},
   "outputs": [
    {
     "name": "stdout",
     "output_type": "stream",
     "text": [
      "{'beta': 237, 'theta': 237}\n"
     ]
    }
   ],
   "source": [
    "del dictionary[\"deltha\"]\n",
    "print(dictionary)"
   ]
  },
  {
   "cell_type": "markdown",
   "id": "05f52abd",
   "metadata": {},
   "source": [
    "##### LIST COMPREHENSION"
   ]
  },
  {
   "cell_type": "code",
   "execution_count": 146,
   "id": "a3b12cf4",
   "metadata": {},
   "outputs": [
    {
     "name": "stdout",
     "output_type": "stream",
     "text": [
      "31\n",
      "130\n",
      "157\n",
      "2629\n",
      "265\n"
     ]
    }
   ],
   "source": [
    "dta=[12,45,54,878,90]\n",
    "for bh in dta:\n",
    "    print(bh*3-5)"
   ]
  },
  {
   "cell_type": "code",
   "execution_count": 152,
   "id": "35a74e8f",
   "metadata": {},
   "outputs": [
    {
     "data": {
      "text/plain": [
       "['t', 'd', 'b']"
      ]
     },
     "execution_count": 152,
     "metadata": {},
     "output_type": "execute_result"
    }
   ],
   "source": [
    "alphaa=[\"theta\",\"delta\",\"beta\"]\n",
    "dtda=[v[0] for v in alphaa]\n",
    "dtda"
   ]
  },
  {
   "cell_type": "code",
   "execution_count": 166,
   "id": "c7966541",
   "metadata": {},
   "outputs": [
    {
     "data": {
      "text/plain": [
       "[120, 1000]"
      ]
     },
     "execution_count": 166,
     "metadata": {},
     "output_type": "execute_result"
    }
   ],
   "source": [
    "data2=\"THE boy is Went at 120 spend of 1000\"\n",
    "frnd=[int(i) for i in data2.split() if i.isdigit()==True]\n",
    "frnd\n"
   ]
  },
  {
   "cell_type": "code",
   "execution_count": 165,
   "id": "643bd87b",
   "metadata": {},
   "outputs": [
    {
     "data": {
      "text/plain": [
       "['THE']"
      ]
     },
     "execution_count": 165,
     "metadata": {},
     "output_type": "execute_result"
    }
   ],
   "source": [
    "frnd=[str(j) for j in data2.split() if j.isupper()==True]\n",
    "frnd"
   ]
  },
  {
   "cell_type": "code",
   "execution_count": 168,
   "id": "05cc12f4",
   "metadata": {},
   "outputs": [
    {
     "data": {
      "text/plain": [
       "['E', 'o', 'i', 'e', 'a', 'e', 'o']"
      ]
     },
     "execution_count": 168,
     "metadata": {},
     "output_type": "execute_result"
    }
   ],
   "source": [
    "ddt=[k for k in data2 if k in 'aeiouAEIOU']\n",
    "ddt"
   ]
  },
  {
   "cell_type": "code",
   "execution_count": 173,
   "id": "7f96181f",
   "metadata": {},
   "outputs": [
    {
     "data": {
      "text/plain": [
       "[12, 45, 54, 878, 90]"
      ]
     },
     "execution_count": 173,
     "metadata": {},
     "output_type": "execute_result"
    }
   ],
   "source": [
    "d=[10 if data12=='THE' else 20 if data12=='is' else 40 for data12 in data2 ]\n",
    "dta"
   ]
  },
  {
   "cell_type": "code",
   "execution_count": 1,
   "id": "f5616248",
   "metadata": {},
   "outputs": [
    {
     "name": "stdout",
     "output_type": "stream",
     "text": [
      "[10, 40, 50, 20]\n"
     ]
    }
   ],
   "source": [
    "tel=[\"dam\",\"stel\",\"tela\",\"alta\"]\n",
    "product= [10 if i ==\"dam\" else 40 if i==\"stel\" else 50 if i==\"tela\"else 20 for i in tel]\n",
    "print(product)"
   ]
  },
  {
   "cell_type": "markdown",
   "id": "314cf568",
   "metadata": {},
   "source": [
    "###### FUNCTION"
   ]
  },
  {
   "cell_type": "code",
   "execution_count": 7,
   "id": "fc22faea",
   "metadata": {},
   "outputs": [
    {
     "name": "stdout",
     "output_type": "stream",
     "text": [
      "6\n"
     ]
    }
   ],
   "source": [
    "def additions(a,b):\n",
    "    add=a+b\n",
    "    return(add)\n",
    "them=additions(2,4)\n",
    "print(them)\n",
    "\n",
    "    "
   ]
  },
  {
   "cell_type": "code",
   "execution_count": 16,
   "id": "c8450604",
   "metadata": {},
   "outputs": [
    {
     "name": "stdout",
     "output_type": "stream",
     "text": [
      "2\n",
      "1\n"
     ]
    }
   ],
   "source": [
    "def argsm(num1,num2):\n",
    "    print(num1)\n",
    "    print(num2)\n",
    "num1=1\n",
    "num2=2\n",
    "argsm(num2,num1)"
   ]
  },
  {
   "cell_type": "code",
   "execution_count": 21,
   "id": "201de8e9",
   "metadata": {},
   "outputs": [
    {
     "name": "stdout",
     "output_type": "stream",
     "text": [
      "bhuvi 21\n",
      "jaya 21\n",
      "avi 21\n"
     ]
    }
   ],
   "source": [
    "def arm(name,nam2,name3,age=21):\n",
    "    print(name,age)\n",
    "    print(nam2,age)\n",
    "    print(name3,age)\n",
    "arm(\"bhuvi\",\"jaya\",\"avi\")"
   ]
  },
  {
   "cell_type": "code",
   "execution_count": 32,
   "id": "744c3be6",
   "metadata": {},
   "outputs": [
    {
     "name": "stdout",
     "output_type": "stream",
     "text": [
      "24804409\n"
     ]
    }
   ],
   "source": [
    "def adds(*num):\n",
    "    add=0\n",
    "    for vs in num:\n",
    "        add=add+vs\n",
    "    print(add)\n",
    "adds(23,452,345,12345678,1111,11,111111,12345678)\n"
   ]
  },
  {
   "cell_type": "code",
   "execution_count": null,
   "id": "cbe861eb",
   "metadata": {},
   "outputs": [],
   "source": []
  }
 ],
 "metadata": {
  "kernelspec": {
   "display_name": "Python 3 (ipykernel)",
   "language": "python",
   "name": "python3"
  },
  "language_info": {
   "codemirror_mode": {
    "name": "ipython",
    "version": 3
   },
   "file_extension": ".py",
   "mimetype": "text/x-python",
   "name": "python",
   "nbconvert_exporter": "python",
   "pygments_lexer": "ipython3",
   "version": "3.10.9"
  }
 },
 "nbformat": 4,
 "nbformat_minor": 5
}
