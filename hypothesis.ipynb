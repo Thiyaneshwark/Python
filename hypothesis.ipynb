{
 "cells": [
  {
   "cell_type": "code",
   "execution_count": 51,
   "id": "e92d3b33",
   "metadata": {},
   "outputs": [],
   "source": [
    "import pandas as pd\n",
    "import numpy as np\n",
    "import seaborn as sns\n",
    "from matplotlib import pyplot as plt\n",
    "import scipy.stats as stats\n",
    "import statsmodels.api as sm\n",
    "import warnings\n",
    "warnings.filterwarnings(\"ignore\")"
   ]
  },
  {
   "cell_type": "code",
   "execution_count": 64,
   "id": "c158e26e",
   "metadata": {},
   "outputs": [],
   "source": [
    "df = pd.DataFrame({\n",
    "    'Date': ['2023-06-01', '2023-06-02', '2023-06-03', '2023-06-04', '2023-06-05'],\n",
    "    'Product': ['A', 'B', 'A', 'C', 'B'],\n",
    "    'Quantity': [100, 75, 120, 50, 80],\n",
    "    'Defects': [5, 2, 10, 1, 3]})"
   ]
  },
  {
   "cell_type": "code",
   "execution_count": 65,
   "id": "9e149ccb",
   "metadata": {},
   "outputs": [
    {
     "data": {
      "text/html": [
       "<div>\n",
       "<style scoped>\n",
       "    .dataframe tbody tr th:only-of-type {\n",
       "        vertical-align: middle;\n",
       "    }\n",
       "\n",
       "    .dataframe tbody tr th {\n",
       "        vertical-align: top;\n",
       "    }\n",
       "\n",
       "    .dataframe thead th {\n",
       "        text-align: right;\n",
       "    }\n",
       "</style>\n",
       "<table border=\"1\" class=\"dataframe\">\n",
       "  <thead>\n",
       "    <tr style=\"text-align: right;\">\n",
       "      <th></th>\n",
       "      <th>Date</th>\n",
       "      <th>Product</th>\n",
       "      <th>Quantity</th>\n",
       "      <th>Defects</th>\n",
       "    </tr>\n",
       "  </thead>\n",
       "  <tbody>\n",
       "    <tr>\n",
       "      <th>0</th>\n",
       "      <td>2023-06-01</td>\n",
       "      <td>A</td>\n",
       "      <td>100</td>\n",
       "      <td>5</td>\n",
       "    </tr>\n",
       "    <tr>\n",
       "      <th>1</th>\n",
       "      <td>2023-06-02</td>\n",
       "      <td>B</td>\n",
       "      <td>75</td>\n",
       "      <td>2</td>\n",
       "    </tr>\n",
       "    <tr>\n",
       "      <th>2</th>\n",
       "      <td>2023-06-03</td>\n",
       "      <td>A</td>\n",
       "      <td>120</td>\n",
       "      <td>10</td>\n",
       "    </tr>\n",
       "    <tr>\n",
       "      <th>3</th>\n",
       "      <td>2023-06-04</td>\n",
       "      <td>C</td>\n",
       "      <td>50</td>\n",
       "      <td>1</td>\n",
       "    </tr>\n",
       "    <tr>\n",
       "      <th>4</th>\n",
       "      <td>2023-06-05</td>\n",
       "      <td>B</td>\n",
       "      <td>80</td>\n",
       "      <td>3</td>\n",
       "    </tr>\n",
       "  </tbody>\n",
       "</table>\n",
       "</div>"
      ],
      "text/plain": [
       "         Date Product  Quantity  Defects\n",
       "0  2023-06-01       A       100        5\n",
       "1  2023-06-02       B        75        2\n",
       "2  2023-06-03       A       120       10\n",
       "3  2023-06-04       C        50        1\n",
       "4  2023-06-05       B        80        3"
      ]
     },
     "execution_count": 65,
     "metadata": {},
     "output_type": "execute_result"
    }
   ],
   "source": [
    "df"
   ]
  },
  {
   "cell_type": "markdown",
   "id": "aca0ac84",
   "metadata": {},
   "source": [
    "#### one sample test"
   ]
  },
  {
   "cell_type": "code",
   "execution_count": 66,
   "id": "73206604",
   "metadata": {
    "scrolled": true
   },
   "outputs": [
    {
     "data": {
      "text/plain": [
       "TtestResult(statistic=0.8451542547285166, pvalue=0.44561438824861255, df=4)"
      ]
     },
     "execution_count": 66,
     "metadata": {},
     "output_type": "execute_result"
    }
   ],
   "source": [
    "from scipy.stats import ttest_1samp\n",
    "ttest_1samp(df[\"Quantity\"],75)"
   ]
  },
  {
   "cell_type": "code",
   "execution_count": 67,
   "id": "9e4f50af",
   "metadata": {},
   "outputs": [
    {
     "data": {
      "text/plain": [
       "0.010989674514455039"
      ]
     },
     "execution_count": 67,
     "metadata": {},
     "output_type": "execute_result"
    }
   ],
   "source": [
    "t_sample=ttest_1samp(df[\"Defects\"],10)\n",
    "p_value=t_sample.pvalue/2\n",
    "p_value"
   ]
  },
  {
   "cell_type": "markdown",
   "id": "0169b70f",
   "metadata": {},
   "source": [
    "#### two sample test"
   ]
  },
  {
   "cell_type": "code",
   "execution_count": 68,
   "id": "9023ba07",
   "metadata": {
    "scrolled": false
   },
   "outputs": [
    {
     "data": {
      "text/plain": [
       "Ttest_indResult(statistic=6.7677293678876715, pvalue=0.00014244292375316717)"
      ]
     },
     "execution_count": 68,
     "metadata": {},
     "output_type": "execute_result"
    }
   ],
   "source": [
    "from scipy.stats import ttest_ind\n",
    "ttest_ind(df[\"Quantity\"],df[\"Defects\"])"
   ]
  },
  {
   "cell_type": "markdown",
   "id": "fec6867d",
   "metadata": {},
   "source": [
    "#### paired test"
   ]
  },
  {
   "cell_type": "code",
   "execution_count": 57,
   "id": "fc435fcf",
   "metadata": {},
   "outputs": [],
   "source": [
    "df_1 = pd.DataFrame( {\n",
    "\"s.no\":[1,2,3,4,5,6,7],\"before_sleep\":[20,34,76,13,64,31,10],\"after_sleep\":[33,20,45,10,78,23,12]})"
   ]
  },
  {
   "cell_type": "code",
   "execution_count": 58,
   "id": "c3e22af4",
   "metadata": {},
   "outputs": [
    {
     "data": {
      "text/plain": [
       "TtestResult(statistic=0.6465327425242773, pvalue=0.5418601335782152, df=6)"
      ]
     },
     "execution_count": 58,
     "metadata": {},
     "output_type": "execute_result"
    }
   ],
   "source": [
    "from scipy.stats import ttest_rel\n",
    "ttest_rel(df_1[\"before_sleep\"],df_1[\"after_sleep\"])"
   ]
  },
  {
   "cell_type": "code",
   "execution_count": 59,
   "id": "f897dffe",
   "metadata": {},
   "outputs": [],
   "source": [
    "df_s = pd.DataFrame( {\"strength.no\":[12,43,44,65,11,2,97,56,76,23,24]\n",
    "})"
   ]
  },
  {
   "cell_type": "markdown",
   "id": "cc32fe73",
   "metadata": {},
   "source": [
    "#### shapiro"
   ]
  },
  {
   "cell_type": "code",
   "execution_count": 61,
   "id": "00b13ee8",
   "metadata": {},
   "outputs": [
    {
     "name": "stdout",
     "output_type": "stream",
     "text": [
      "0.4096534848213196\n"
     ]
    }
   ],
   "source": [
    "rand_m=np.random.random(4)*4\n",
    "from scipy.stats import shapiro\n",
    "stat,p =shapiro(rand_m)\n",
    "print(p)"
   ]
  },
  {
   "cell_type": "markdown",
   "id": "90f39a8d",
   "metadata": {},
   "source": [
    "#### Jarque_Bera test"
   ]
  },
  {
   "cell_type": "code",
   "execution_count": 62,
   "id": "fa709adb",
   "metadata": {},
   "outputs": [
    {
     "name": "stdout",
     "output_type": "stream",
     "text": [
      "0.4061364138102881\n"
     ]
    }
   ],
   "source": [
    "diam=np.random.normal(loc=3,scale=0.4,size=6000)+np.random.normal(loc=4,scale=0.3,size=6000)\n",
    "from scipy.stats import jarque_bera\n",
    "stats,p=jarque_bera(diam)\n",
    "print(p)\n"
   ]
  },
  {
   "cell_type": "markdown",
   "id": "58d58afe",
   "metadata": {},
   "source": [
    "### ANOVA"
   ]
  },
  {
   "cell_type": "code",
   "execution_count": 70,
   "id": "d11d3499",
   "metadata": {},
   "outputs": [
    {
     "data": {
      "text/plain": [
       "F_onewayResult(statistic=0.06309207149190349, pvalue=0.9391663477935837)"
      ]
     },
     "execution_count": 70,
     "metadata": {},
     "output_type": "execute_result"
    }
   ],
   "source": [
    "from scipy.stats import f_oneway\n",
    "pro_1=[23,54,76,23,34]\n",
    "pro_2=[67,23,56,78,12]\n",
    "pro_3=[90,45,65,88,12]\n",
    "f_oneway(pro_1,pro_2,pro_2)"
   ]
  },
  {
   "cell_type": "code",
   "execution_count": 85,
   "id": "84e321e8",
   "metadata": {},
   "outputs": [
    {
     "name": "stdout",
     "output_type": "stream",
     "text": [
      "    Multiple Comparison of Means - Tukey HSD, FWER=0.05     \n",
      "============================================================\n",
      "  group1     group2   meandiff p-adj   lower   upper  reject\n",
      "------------------------------------------------------------\n",
      "Programme1 Programme2     -3.0 0.0428 -5.9177 -0.0823   True\n",
      "Programme1 Programme3      0.4 0.9788 -2.5177  3.3177  False\n",
      "Programme1 Programme4     -3.2 0.0292 -6.1177 -0.2823   True\n",
      "Programme2 Programme3      3.4 0.0197  0.4823  6.3177   True\n",
      "Programme2 Programme4     -0.2 0.9972 -3.1177  2.7177  False\n",
      "Programme3 Programme4     -3.6 0.0133 -6.5177 -0.6823   True\n",
      "------------------------------------------------------------\n"
     ]
    }
   ],
   "source": [
    "from statsmodels.stats.multicomp import(pairwise_tukeyhsd,MultiComparison)\n",
    "df=pd.DataFrame({'Programme1':[9,12,14,11,13],'Programme2':[10,6,9,9,10],'Programme3':[12,14,11,13,11],'Programme4':[9,8,11,7,8]})\n",
    "stacked_data=df.stack().reset_index()\n",
    "stacked_data=stacked_data.rename(columns={'level_0':'id','level_1':'programme',0:'number of tasks'})\n",
    "MultiComp=MultiComparison(stacked_data['number of tasks'],stacked_data['programme'])\n",
    "print(MultiComp.tukeyhsd().summary())"
   ]
  },
  {
   "cell_type": "markdown",
   "id": "7b45ab7d",
   "metadata": {},
   "source": [
    "#### Chi_test"
   ]
  },
  {
   "cell_type": "code",
   "execution_count": 86,
   "id": "08bf5d36",
   "metadata": {},
   "outputs": [
    {
     "data": {
      "text/plain": [
       "(17.640883327199113, 0.0014503134604129857)"
      ]
     },
     "execution_count": 86,
     "metadata": {},
     "output_type": "execute_result"
    }
   ],
   "source": [
    "from scipy.stats import chi2_contingency\n",
    "frequency=np.array([[45,32,13],[58,62,30],[87,126,87]])\n",
    "statistic, p, dof, expctd=chi2_contingency(frequency)\n",
    "statistic, p"
   ]
  }
 ],
 "metadata": {
  "kernelspec": {
   "display_name": "Python 3 (ipykernel)",
   "language": "python",
   "name": "python3"
  },
  "language_info": {
   "codemirror_mode": {
    "name": "ipython",
    "version": 3
   },
   "file_extension": ".py",
   "mimetype": "text/x-python",
   "name": "python",
   "nbconvert_exporter": "python",
   "pygments_lexer": "ipython3",
   "version": "3.10.9"
  }
 },
 "nbformat": 4,
 "nbformat_minor": 5
}
